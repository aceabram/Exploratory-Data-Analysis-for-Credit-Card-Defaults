{
 "cells": [
  {
   "cell_type": "code",
   "execution_count": 1,
   "metadata": {},
   "outputs": [],
   "source": [
    "#import packages\n",
    "import pandas as pd\n",
    "from pandas import DataFrame\n",
    "import seaborn as sns\n",
    "import numpy as np\n",
    "import matplotlib.pyplot as plt"
   ]
  },
  {
   "cell_type": "code",
   "execution_count": 2,
   "metadata": {},
   "outputs": [
    {
     "data": {
      "text/plain": [
       "(30000, 25)"
      ]
     },
     "execution_count": 2,
     "metadata": {},
     "output_type": "execute_result"
    }
   ],
   "source": [
    "#define dataset\n",
    "df = (r'C:\\Users\\abrah\\Documents\\Data analysis projects\\Credit Card defaults\\UCI_Credit_Card.csv')\n",
    "pd.read_csv(df)\n",
    "df1= pd.read_csv(df)\n",
    "df1.shape"
   ]
  },
  {
   "cell_type": "code",
   "execution_count": 3,
   "metadata": {},
   "outputs": [
    {
     "name": "stdout",
     "output_type": "stream",
     "text": [
      "EDUCATION [1, 2, 3, 4]\n"
     ]
    }
   ],
   "source": [
    "#For Education, Combine values 0, 4, 5,6 defined as others collectively into 1 category and name it 4.\n",
    "\n",
    "fill = (df1.EDUCATION == 0) | (df1.EDUCATION == 5) | (df1.EDUCATION == 6)\n",
    "df1.loc[fill, 'EDUCATION'] = 4\n",
    "print('EDUCATION ' + str(sorted(df1['EDUCATION'].unique())))"
   ]
  },
  {
   "cell_type": "code",
   "execution_count": 4,
   "metadata": {},
   "outputs": [],
   "source": [
    "#Save the dataset as a .csv file\n",
    "df1.to_csv(r'C:\\Users\\abrah\\Documents\\Data analysis projects\\Credit Card defaults\\finaldatasetUCI_Credit_Card.csv')"
   ]
  },
  {
   "cell_type": "code",
   "execution_count": null,
   "metadata": {},
   "outputs": [],
   "source": []
  }
 ],
 "metadata": {
  "kernelspec": {
   "display_name": "Python 3",
   "language": "python",
   "name": "python3"
  },
  "language_info": {
   "codemirror_mode": {
    "name": "ipython",
    "version": 3
   },
   "file_extension": ".py",
   "mimetype": "text/x-python",
   "name": "python",
   "nbconvert_exporter": "python",
   "pygments_lexer": "ipython3",
   "version": "3.7.1"
  }
 },
 "nbformat": 4,
 "nbformat_minor": 2
}
